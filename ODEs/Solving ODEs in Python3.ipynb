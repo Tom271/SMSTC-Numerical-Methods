{
 "cells": [
  {
   "cell_type": "markdown",
   "metadata": {},
   "source": [
    " # Using Python to solve ODEs\n",
    " \n",
    " In this notebook we will look at how to solve ODEs in Python using the `solve_ivp` function and the solvers it provides. We will also look at the old API, namely `odeint` and `ode`. As usual we begin with the standard Numpy and Matplotlib imports"
   ]
  },
  {
   "cell_type": "code",
   "execution_count": null,
   "metadata": {},
   "outputs": [],
   "source": [
    "import numpy as np\n",
    "import matplotlib.pyplot as plt"
   ]
  },
  {
   "cell_type": "markdown",
   "metadata": {},
   "source": [
    "The capability to solve ODEs is provided by the `scipy` package, in particular [`scipy.integrate`](https://docs.scipy.org/doc/scipy/reference/integrate.html)"
   ]
  },
  {
   "cell_type": "code",
   "execution_count": null,
   "metadata": {},
   "outputs": [],
   "source": [
    "from scipy.integrate import solve_ivp"
   ]
  },
  {
   "cell_type": "markdown",
   "metadata": {},
   "source": [
    "## Solving First Order ODEs\n",
    "\n",
    "Consider the dimensionless [logistic growth equation](https://en.wikipedia.org/wiki/Logistic_function#In_ecology:_modeling_population_growth)\n",
    "\n",
    "$$\n",
    "\\frac{\\mathrm{d}y}{\\mathrm{d}t} = y(1-y), \\quad y(0)=\\frac{1}{2}.\n",
    "$$\n",
    "The analytic solution is given by\n",
    "$$\n",
    "y(t) = \\frac{1}{1+\\mathrm{e}^{-t}}\n",
    "$$\n",
    "To solve this numerically, we first write this in the form $y' = f(t,y)$ and type the right hand side as a function:"
   ]
  },
  {
   "cell_type": "code",
   "execution_count": null,
   "metadata": {},
   "outputs": [],
   "source": [
    "def logistic_ode(t, y):\n",
    "    f = y * (1 - y)\n",
    "    return f"
   ]
  },
  {
   "cell_type": "markdown",
   "metadata": {},
   "source": [
    "The `solve_ivp` function requires 3 inputs: \n",
    "- `fun`: the function $f(t,y)$ that defines the right hand side of the ODE. Here $t$ is a scalar and $y$ is a matrix (`ndarray`).\n",
    "- `t_span`: A vector or tuple of floats, $\\left[t_0 ,t_f\\right]$ where $t_0$ is the time from which to begin solving and $t_f$ is the time to end solving.\n",
    "- `y0`:  A vector of initial conditions.\n",
    "\n",
    "The documentation for the `solve_ivp` function is [available here](https://docs.scipy.org/doc/scipy/reference/generated/scipy.integrate.solve_ivp.html#scipy.integrate.solve_ivp), scroll down for examples!\n",
    "\n",
    "The solution is output as an object, which here is named `sol`. The times at which the ODE was solved is stored as a vector in `sol.t` and the solution will be a matrix stored in `sol.y`. **Note: these will be called `sol.t` and `sol.y` irrespective of the variables in the ODE function.**"
   ]
  },
  {
   "cell_type": "code",
   "execution_count": null,
   "metadata": {},
   "outputs": [],
   "source": [
    "sol = solve_ivp(logistic_ode, (0,10), [0.5])\n",
    "t = sol.t\n",
    "y = sol.y"
   ]
  },
  {
   "cell_type": "markdown",
   "metadata": {},
   "source": [
    "By default, the `solve_ivp` uses an [Explicit Runge-Kutta method of order 5(4)](https://docs.scipy.org/doc/scipy/reference/generated/scipy.integrate.RK45.html#scipy.integrate.RK45). This will be roughly equivalent to MATLAB's `ode45` function. In most cases this should be your first port of call when numerically solving an ODE. Later we will look at the other solvers available within Python.\n",
    "\n",
    "We can plot the solution and the true solution in the same plot."
   ]
  },
  {
   "cell_type": "code",
   "execution_count": null,
   "metadata": {},
   "outputs": [],
   "source": [
    "def logistic_sol(t):\n",
    "    return 1 / (1 + np.exp(-t))\n",
    "\n",
    "t_exact = np.arange(0,10, 0.00001)\n",
    "plt.plot(t_exact, logistic_sol(t_exact), label=\"Exact Sol\")\n",
    "plt.plot(t,y[0,:], label=\"Numerical Sol\")\n",
    "plt.legend()\n",
    "plt.show()\n"
   ]
  },
  {
   "cell_type": "markdown",
   "metadata": {},
   "source": [
    "We can also plot the error at each solution point."
   ]
  },
  {
   "cell_type": "code",
   "execution_count": null,
   "metadata": {},
   "outputs": [],
   "source": [
    "plt.plot(t, np.abs(y[0,:]-logistic_sol(t)), label=\"Error\")\n",
    "plt.legend()\n",
    "plt.show()"
   ]
  },
  {
   "cell_type": "markdown",
   "metadata": {},
   "source": [
    "### Reducing the Error Tolerances\n",
    "There are two keyword inputs to `solve_ivp` that control the tolerable error. These are the relative tolerance `rtol` and the absolute tolerance `atol`. The solver keeps the error estimates aproximately less than `atol + rtol *abs(y)`. By default `atol`$=1e-6$ and `rtol`$=0.001$, which means for the logistic equation here the error should always be\n",
    "\n",
    "`atol + rtol *abs(y)`$ \\approx 10^{-6} + 0.001 \\times \\mathrm{abs}(y) \\leq 10^{-6} + 0.001 \\times 1 = 0.001001. $\n",
    "The graph above shows that in this case the solver has beaten this bound by an order of magnitude. If more accuracy is required,  `atol` and `rtol` can be adjusted:"
   ]
  },
  {
   "cell_type": "code",
   "execution_count": null,
   "metadata": {},
   "outputs": [],
   "source": [
    "sol_accurate = solve_ivp(logistic_ode, [0,10], [0.5], atol=1e-7,rtol=1e-4)\n",
    "t_accurate = sol_accurate.t\n",
    "y_accurate = sol_accurate.y\n",
    "# plotting\n",
    "plt.plot(t_accurate, np.abs(y_accurate[0,:]-logistic_sol(t_accurate)),label=\"Error\")\n",
    "plt.legend()\n",
    "plt.show()"
   ]
  },
  {
   "cell_type": "markdown",
   "metadata": {},
   "source": [
    "## Second Order ODEs\n",
    "Similar to MATLAB, Python only deals with first order ODEs. Consider the [damped harmonic oscillator](https://en.wikipedia.org/wiki/Harmonic_oscillator#Damped_harmonic_oscillator) governed by \n",
    "$$\n",
    "\\ddot{x} +\\omega \\dot{x} + x =0  \n",
    "$$\n",
    "\n",
    "This can be rewritten as two coupled first order ODEs:\n",
    "$$\n",
    "\\begin{cases}\n",
    "    \\dot{x} &= y\\\\\n",
    "    \\dot{y} &= - \\omega y - x\\\\\n",
    "\\end{cases}\n",
    "$$\n",
    "This time our function must return a vector, with one element for the $x$ equation and one for the $y$ equation. We denote $z = \\begin{pmatrix}x\\\\y\\end{pmatrix}$\n"
   ]
  },
  {
   "cell_type": "code",
   "execution_count": null,
   "metadata": {},
   "outputs": [],
   "source": [
    "def damped_osc_ode(t, z, omega):\n",
    "    x, y = z\n",
    "    return [y, -omega * y - x]"
   ]
  },
  {
   "cell_type": "markdown",
   "metadata": {},
   "source": [
    "This will return a vector,\n",
    "$$\n",
    "f = \\begin{pmatrix}\n",
    "     y\\\\ -\\omega y - x\n",
    "    \\end{pmatrix}.\n",
    "$$\n",
    "Solving the system is the similar to the first-order case, however we must supply two initial conditions: one for $x$ and one for $y$. Also, the damped harmonic equation contains an extra fixed parameter $\\omega$. This is passed to the solver using `args=omega`. The `args` keyword parameter must be an iterable, i.e. a tuple. If only one parameter is passed it must be in the form:\n",
    "```\n",
    "args = (param,)\n",
    "```\n",
    "This tells Python to interpret this as a tuple and not just an integer or a float.\n",
    "\n",
    "**Note: before Scipy 1.4, the `args` parameter was not used. Check your version of Scipy if this does not work** If using Scipy<1.4, use a lambda function as described [here](https://github.com/scipy/scipy/issues/8352#issuecomment-362918089). "
   ]
  },
  {
   "cell_type": "code",
   "execution_count": null,
   "metadata": {},
   "outputs": [],
   "source": [
    "omega = 1\n",
    "sol = solve_ivp(damped_osc_ode, [0,10], [1,0], args=(omega,))"
   ]
  },
  {
   "cell_type": "code",
   "execution_count": null,
   "metadata": {},
   "outputs": [],
   "source": [
    "t = sol.t\n",
    "y = sol.y\n",
    "plt.plot(t,y[0,:], label=\"Numerical Sol x\")\n",
    "plt.plot(t,y[1,:], label=\"Numerical Sol x_dot\")\n",
    "plt.legend()\n",
    "plt.show()"
   ]
  },
  {
   "cell_type": "markdown",
   "metadata": {},
   "source": [
    "## Stiff Problems (Alternate Solvers)\n",
    "\n",
    "There are of course scenarios where RK45 is not a good enough solver. This is usually the case when solving a stiff problem, for example the Van der Pol oscillator.\n",
    "$$\n",
    "\\ddot{x} = \\mu (1-x^2)\\dot{x} - x.\n",
    "$$\n",
    "This can be written as a pair of first order ODEs:\n",
    "$$\n",
    "\\begin{cases}\n",
    "    \\dot{y}_0 &= y_1\\\\\n",
    "    \\dot{y}_1 &= \\mu (1-y_0^2)y_1 - y_0\n",
    "\\end{cases}\n",
    "$$\n",
    "Let $y_0(0) = 2, y_1(0) = 0, \\mu = 1000 $. These are chosen to coincide with the example in the [MATLAB documentation](https://uk.mathworks.com/help/matlab/ref/ode15s.html)\n"
   ]
  },
  {
   "cell_type": "code",
   "execution_count": null,
   "metadata": {},
   "outputs": [],
   "source": [
    "def vdp_ode(t,y,mu):\n",
    "    f = np.zeros(2)\n",
    "    f[0] = y[1]\n",
    "    f[1] = mu*(1-y[0]**2)*y[1] - y[0]\n",
    "    return f"
   ]
  },
  {
   "cell_type": "markdown",
   "metadata": {},
   "source": [
    "If we were to solve this without specifying a `method`, Scipy would default to the `RK45` solver. This will result in a very long computation time as the scheme must refine the stepsize a huge amount before the tolerance is met. I'd recommend not running the cell below, unless you have a lot of time to spare!"
   ]
  },
  {
   "cell_type": "code",
   "execution_count": null,
   "metadata": {},
   "outputs": [],
   "source": [
    "mu = 1000\n",
    "\n",
    "sol = solve_ivp(vdp_ode, [0,3000], [2,0], args=(mu,))\n",
    "t = sol.t\n",
    "y = sol.y\n",
    "plt.plot(t,y[0,:], label=\"Van der Pol Oscillator\")\n",
    "plt.legend()\n",
    "plt.show()"
   ]
  },
  {
   "cell_type": "markdown",
   "metadata": {},
   "source": [
    "Instead, it is better to use one of Scipy's stiff solvers. There are three, in order of preference:\n",
    "- `Radau`, an implicit Runge-Kutta of the Radau IIA family of order 5\n",
    "\n",
    "- `BDF`, an implicit multi-step variable order method based on a backward differentiation formula. This is approximately equivalent to MATLAB's `ode15s` solver.\n",
    "- `LSODA`, an Adams/BDF method with automatic stiffness detection -- this is based on the Fortran solver ODEPACK\n",
    "\n",
    "Here we use `BDF`, it decreases the computation time considerably"
   ]
  },
  {
   "cell_type": "code",
   "execution_count": null,
   "metadata": {},
   "outputs": [],
   "source": [
    "mu = 1000\n",
    "\n",
    "sol = solve_ivp(vdp_ode, [0,3000], [2,0], args=(mu,), method=\"BDF\")\n",
    "t = sol.t\n",
    "y = sol.y\n",
    "plt.plot(t,y[0,:], label=\"Van der Pol Oscillator\")\n",
    "plt.legend()\n",
    "plt.show()"
   ]
  },
  {
   "cell_type": "markdown",
   "metadata": {},
   "source": [
    "The implicit methods require the approximation of the Jacobian at every timestep. To improve accuracy, this can be passed to the solver. If no Jacobian is passed, it will be approximated using finite differences. For the Van der Pol oscillator, the Jacobian is\n",
    "$$\n",
    "J = \\begin{pmatrix}\n",
    "    0 & 1\\\\\n",
    "    2\\mu y_0 y_1-1 & \\mu(1-y_0^2)\n",
    "    \\end{pmatrix}\n",
    "$$"
   ]
  },
  {
   "cell_type": "code",
   "execution_count": null,
   "metadata": {},
   "outputs": [],
   "source": [
    "def vdp_jac(t,y,mu):\n",
    "    J = np.zeros((2,2))\n",
    "    J[0,0] = 0\n",
    "    J[0,1] = 1\n",
    "    J[1,0] = 2*mu*y[0]*y[1] -1 \n",
    "    J[1,1] = mu * (1 - y[0]**2)\n",
    "    return J"
   ]
  },
  {
   "cell_type": "markdown",
   "metadata": {},
   "source": [
    "Note the change of method here to `Radau`, doing so considerably speeds up computation time."
   ]
  },
  {
   "cell_type": "code",
   "execution_count": null,
   "metadata": {},
   "outputs": [],
   "source": [
    "mu = 1000\n",
    "\n",
    "sol_acc = solve_ivp(vdp_ode, [0,3000], [2,0], args=(mu,), method=\"Radau\", jac=vdp_jac)\n",
    "t_acc = sol_acc.t\n",
    "y_acc = sol_acc.y\n",
    "plt.plot(t_acc,y_acc[0,:], label=\"Van der Pol Oscillator\")\n",
    "plt.legend()\n",
    "plt.show()"
   ]
  },
  {
   "cell_type": "code",
   "execution_count": null,
   "metadata": {},
   "outputs": [],
   "source": [
    "plt.plot(t_acc,y_acc[0,:], label=\"Jac Van der Pol Oscillator\")\n",
    "plt.plot(t,y[0,:], label=\"Van der Pol Oscillator\")\n",
    "plt.legend()\n",
    "plt.show()"
   ]
  },
  {
   "cell_type": "code",
   "execution_count": null,
   "metadata": {},
   "outputs": [],
   "source": []
  }
 ],
 "metadata": {
  "kernelspec": {
   "display_name": "Python 3",
   "language": "python",
   "name": "python3"
  },
  "language_info": {
   "codemirror_mode": {
    "name": "ipython",
    "version": 3
   },
   "file_extension": ".py",
   "mimetype": "text/x-python",
   "name": "python",
   "nbconvert_exporter": "python",
   "pygments_lexer": "ipython3",
   "version": "3.7.4"
  }
 },
 "nbformat": 4,
 "nbformat_minor": 2
}
